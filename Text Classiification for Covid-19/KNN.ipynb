{
 "cells": [
  {
   "cell_type": "code",
   "execution_count": 1,
   "id": "8f473a62",
   "metadata": {
    "colab": {
     "base_uri": "https://localhost:8080/"
    },
    "id": "8f473a62",
    "outputId": "d8ca1b35-b578-4663-fb85-6389239e25ef"
   },
   "outputs": [
    {
     "name": "stdout",
     "output_type": "stream",
     "text": [
      "[nltk_data] Downloading package punkt to /root/nltk_data...\n",
      "[nltk_data]   Unzipping tokenizers/punkt.zip.\n",
      "[nltk_data] Downloading package stopwords to /root/nltk_data...\n",
      "[nltk_data]   Unzipping corpora/stopwords.zip.\n",
      "[nltk_data] Downloading package wordnet to /root/nltk_data...\n",
      "[nltk_data]   Unzipping corpora/wordnet.zip.\n",
      "[nltk_data] Downloading package omw-1.4 to /root/nltk_data...\n",
      "[nltk_data]   Unzipping corpora/omw-1.4.zip.\n"
     ]
    }
   ],
   "source": [
    "import nltk\n",
    "from nltk.tokenize import word_tokenize\n",
    "from nltk.stem import WordNetLemmatizer\n",
    "from nltk.corpus import stopwords\n",
    "nltk.download('punkt')\n",
    "nltk.download('stopwords')\n",
    "nltk.download('wordnet')\n",
    "nltk.download('omw-1.4')\n",
    "import numpy as np\n",
    "import pandas as pd\n",
    "import string\n"
   ]
  },
  {
   "cell_type": "code",
   "execution_count": 3,
   "id": "22e3fdc7",
   "metadata": {
    "id": "22e3fdc7"
   },
   "outputs": [],
   "source": [
    "test_data= pd.read_csv(\"BC7-LitCovid-Dev.csv\")\n",
    "train_data= pd.read_csv(\"BC7-LitCovid-Train.csv\")"
   ]
  },
  {
   "cell_type": "code",
   "execution_count": 4,
   "id": "9ab3f243",
   "metadata": {
    "id": "9ab3f243"
   },
   "outputs": [],
   "source": [
    "#preprocessing\n",
    "def preprocessing(data):\n",
    "\n",
    "    takl = data[[\"title\", \"abstract\", \"keywords\", \"label\"]]\n",
    "\n",
    "    takl[\"keywords\"] = takl[\"keywords\"].apply(lambda x: str(x).replace(\";\", \" \"))\n",
    "\n",
    "    takl[\"body\"] =takl[[\"title\", \"abstract\", \"keywords\"]].agg(\" \".join, axis=1)\n",
    "    \n",
    "    body_label= takl[[\"body\", \"label\"]]\n",
    "    \n",
    "    #case folding\n",
    "\n",
    "    body_label[\"body\"] = body_label[\"body\"].apply(lambda x: str(x).casefold())\n",
    "\n",
    "    #punctuation removal\n",
    "\n",
    "    body_label[\"body\"] = body_label[\"body\"].apply(lambda x: str(x).translate(str.maketrans('', '', string.punctuation)))\n",
    "\n",
    "    #tokenize\n",
    "\n",
    "    body_label[\"body\"] = body_label[\"body\"].apply(lambda x: word_tokenize(str(x)))\n",
    "\n",
    "    #stopword removal\n",
    "\n",
    "    stop_words = set(stopwords.words('english'))\n",
    "\n",
    "    for i in range(len(body_label)):\n",
    "        body_label[\"body\"][i]= [w for w in body_label[\"body\"][i] if not w in stop_words]\n",
    "\n",
    "    #lemmatization\n",
    "\n",
    "    lemmatizer = WordNetLemmatizer()\n",
    "    for i in range(len(body_label)):\n",
    "        body_label[\"body\"][i]= [lemmatizer.lemmatize(str(w)) for w in body_label[\"body\"][i] ]\n",
    "\n",
    "    #stemming\n",
    "\n",
    "    sno = nltk.stem.SnowballStemmer('english')\n",
    "    for i in range(len(body_label)):\n",
    "        body_label[\"body\"][i]= [sno.stem(str(w)) for w in body_label[\"body\"][i] ]\n",
    "        \n",
    "    return body_label\n",
    "    \n",
    "\n",
    "#df['a'] = df['a'].apply(lambda x: x + 1)\n",
    "#df['period'] = df[['Year', 'quarter', ...]].agg('-'.join, axis=1)"
   ]
  },
  {
   "cell_type": "code",
   "execution_count": 5,
   "id": "696449c3",
   "metadata": {
    "colab": {
     "base_uri": "https://localhost:8080/"
    },
    "id": "696449c3",
    "outputId": "6f040d7b-00bd-4f95-9425-d5e5eed011ed"
   },
   "outputs": [
    {
     "name": "stderr",
     "output_type": "stream",
     "text": [
      "/usr/local/lib/python3.7/dist-packages/ipykernel_launcher.py:6: SettingWithCopyWarning: \n",
      "A value is trying to be set on a copy of a slice from a DataFrame.\n",
      "Try using .loc[row_indexer,col_indexer] = value instead\n",
      "\n",
      "See the caveats in the documentation: https://pandas.pydata.org/pandas-docs/stable/user_guide/indexing.html#returning-a-view-versus-a-copy\n",
      "  \n",
      "/usr/local/lib/python3.7/dist-packages/ipykernel_launcher.py:8: SettingWithCopyWarning: \n",
      "A value is trying to be set on a copy of a slice from a DataFrame.\n",
      "Try using .loc[row_indexer,col_indexer] = value instead\n",
      "\n",
      "See the caveats in the documentation: https://pandas.pydata.org/pandas-docs/stable/user_guide/indexing.html#returning-a-view-versus-a-copy\n",
      "  \n",
      "/usr/local/lib/python3.7/dist-packages/ipykernel_launcher.py:14: SettingWithCopyWarning: \n",
      "A value is trying to be set on a copy of a slice from a DataFrame.\n",
      "Try using .loc[row_indexer,col_indexer] = value instead\n",
      "\n",
      "See the caveats in the documentation: https://pandas.pydata.org/pandas-docs/stable/user_guide/indexing.html#returning-a-view-versus-a-copy\n",
      "  \n",
      "/usr/local/lib/python3.7/dist-packages/ipykernel_launcher.py:18: SettingWithCopyWarning: \n",
      "A value is trying to be set on a copy of a slice from a DataFrame.\n",
      "Try using .loc[row_indexer,col_indexer] = value instead\n",
      "\n",
      "See the caveats in the documentation: https://pandas.pydata.org/pandas-docs/stable/user_guide/indexing.html#returning-a-view-versus-a-copy\n",
      "/usr/local/lib/python3.7/dist-packages/ipykernel_launcher.py:22: SettingWithCopyWarning: \n",
      "A value is trying to be set on a copy of a slice from a DataFrame.\n",
      "Try using .loc[row_indexer,col_indexer] = value instead\n",
      "\n",
      "See the caveats in the documentation: https://pandas.pydata.org/pandas-docs/stable/user_guide/indexing.html#returning-a-view-versus-a-copy\n",
      "/usr/local/lib/python3.7/dist-packages/ipykernel_launcher.py:1: SettingWithCopyWarning: \n",
      "A value is trying to be set on a copy of a slice from a DataFrame\n",
      "\n",
      "See the caveats in the documentation: https://pandas.pydata.org/pandas-docs/stable/user_guide/indexing.html#returning-a-view-versus-a-copy\n",
      "  \"\"\"Entry point for launching an IPython kernel.\n",
      "/usr/local/lib/python3.7/dist-packages/ipykernel_launcher.py:2: SettingWithCopyWarning: \n",
      "A value is trying to be set on a copy of a slice from a DataFrame\n",
      "\n",
      "See the caveats in the documentation: https://pandas.pydata.org/pandas-docs/stable/user_guide/indexing.html#returning-a-view-versus-a-copy\n",
      "  \n"
     ]
    }
   ],
   "source": [
    "preprocessed_test = preprocessing(test_data)\n",
    "preprocessed_train = preprocessing(train_data)"
   ]
  },
  {
   "cell_type": "code",
   "execution_count": null,
   "id": "I5lq-u4wAv-O",
   "metadata": {
    "id": "I5lq-u4wAv-O"
   },
   "outputs": [],
   "source": [
    "import numpy as np\n",
    "from sklearn.datasets import fetch_20newsgroups\n",
    "from sklearn.feature_extraction.text import CountVectorizer\n",
    "from sklearn.feature_extraction.text import TfidfTransformer\n",
    "from sklearn.neighbors import KNeighborsClassifier\n",
    "from sklearn.pipeline import Pipeline"
   ]
  },
  {
   "cell_type": "code",
   "execution_count": null,
   "id": "dAJVZWnqDFBg",
   "metadata": {
    "id": "dAJVZWnqDFBg"
   },
   "outputs": [],
   "source": [
    "X_train = preprocessed_train[\"body\"]\n",
    "Y_train = preprocessed_train[\"label\"]\n",
    "\n",
    "X_test = preprocessed_test[\"body\"]\n",
    "Y_test = preprocessed_test[\"label\"]\n"
   ]
  },
  {
   "cell_type": "code",
   "execution_count": null,
   "id": "qtWoPtfAlJdX",
   "metadata": {
    "id": "qtWoPtfAlJdX"
   },
   "outputs": [],
   "source": [
    "X_train_str = [\"\" for x in range(len(X_train))]\n",
    "X_test_str = [\"\" for x in range(len(X_test))]\n",
    "strr = \" \"\n",
    "for i in range(len(X_train)):\n",
    "  string = \"\"\n",
    "  for j in X_train.loc[i]:\n",
    "    strr  += j\n",
    "    string += j\n",
    "    string += \" \"\n",
    "  X_train_str[i] = string\n",
    "\n",
    "for i in range(len(X_test)):\n",
    "  string = \"\"\n",
    "  for j in X_test.loc[i]:\n",
    "    string += j\n",
    "    string += \" \"\n",
    "  X_test_str[i] = string"
   ]
  },
  {
   "cell_type": "code",
   "execution_count": null,
   "id": "WX7QOnzGHCC8",
   "metadata": {
    "id": "WX7QOnzGHCC8"
   },
   "outputs": [],
   "source": [
    "Y_train_CaseReport = np.zeros(len(Y_train))\n",
    "Y_train_Diagnosis = np.zeros(len(Y_train))\n",
    "Y_train_EpidemicForecasting = np.zeros(len(Y_train))\n",
    "Y_train_Mechanism = np.zeros(len(Y_train))\n",
    "Y_train_Prevention = np.zeros(len(Y_train))\n",
    "Y_train_Transmission = np.zeros(len(Y_train))\n",
    "Y_train_Treatment = np.zeros(len(Y_train))\n",
    "\n",
    "for i in range(len(Y_train)):\n",
    "  if 'Case Report' in Y_train[i]:\n",
    "    Y_train_CaseReport[i] = 1\n",
    "  if 'Diagnosis' in Y_train[i]:\n",
    "    Y_train_Diagnosis[i] = 1\n",
    "  if 'Epidemic Forecasting' in Y_train[i]:\n",
    "    Y_train_EpidemicForecasting[i] = 1\n",
    "  if 'Mechanism' in Y_train[i]:\n",
    "    Y_train_Mechanism[i] = 1\n",
    "  if 'Prevention' in Y_train[i]:\n",
    "    Y_train_Prevention[i] = 1\n",
    "  if 'Transmission' in Y_train[i]:\n",
    "    Y_train_Transmission[i] = 1\n",
    "  if 'Treatment' in Y_train[i]:\n",
    "    Y_train_Treatment[i] = 1"
   ]
  },
  {
   "cell_type": "code",
   "execution_count": null,
   "id": "X_Gf5Qol2Wa5",
   "metadata": {
    "id": "X_Gf5Qol2Wa5"
   },
   "outputs": [],
   "source": [
    "Y_test_CaseReport = np.zeros(len(Y_test))\n",
    "Y_test_Diagnosis = np.zeros(len(Y_test))\n",
    "Y_test_EpidemicForecasting = np.zeros(len(Y_test))\n",
    "Y_test_Mechanism = np.zeros(len(Y_test))\n",
    "Y_test_Prevention = np.zeros(len(Y_test))\n",
    "Y_test_Transmission = np.zeros(len(Y_test))\n",
    "Y_test_Treatment = np.zeros(len(Y_test))\n",
    "\n",
    "for i in range(len(Y_test)):\n",
    "  if 'Case Report' in Y_test[i]:\n",
    "    Y_test_CaseReport[i] = 1\n",
    "  if 'Diagnosis' in Y_test[i]:\n",
    "    Y_test_Diagnosis[i] = 1\n",
    "  if 'Epidemic Forecasting' in Y_test[i]:\n",
    "    Y_test_EpidemicForecasting[i] = 1\n",
    "  if 'Mechanism' in Y_test[i]:\n",
    "    Y_test_Mechanism[i] = 1\n",
    "  if 'Prevention' in Y_test[i]:\n",
    "    Y_test_Prevention[i] = 1\n",
    "  if 'Transmission' in Y_test[i]:\n",
    "    Y_test_Transmission[i] = 1\n",
    "  if 'Treatment' in Y_test[i]:\n",
    "    Y_test_Treatment[i] = 1"
   ]
  },
  {
   "cell_type": "code",
   "execution_count": null,
   "id": "-Dmdl-LbDbEP",
   "metadata": {
    "colab": {
     "base_uri": "https://localhost:8080/"
    },
    "id": "-Dmdl-LbDbEP",
    "outputId": "e18f517c-c3e8-4cb0-91c2-00414c42e0ba"
   },
   "outputs": [
    {
     "name": "stdout",
     "output_type": "stream",
     "text": [
      "We got an accuracy of 94.08559063952556 % over the test data.\n",
      "We got an accuracy of 87.78650424747556 % over the test data.\n",
      "We got an accuracy of 98.1086712614201 % over the test data.\n",
      "We got an accuracy of 92.54688251322327 % over the test data.\n",
      "We got an accuracy of 89.64577656675749 % over the test data.\n",
      "We got an accuracy of 96.18528610354224 % over the test data.\n",
      "We got an accuracy of 86.50424747555698 % over the test data.\n"
     ]
    }
   ],
   "source": [
    "KNN = KNeighborsClassifier(n_neighbors=7)\n",
    "\n",
    "# Pipeline =  CountVectorizer + TfidfTransformer + KNNClassifier\n",
    "clf = Pipeline([('vect', CountVectorizer()),('tfidf', TfidfTransformer()),('clf', KNN),])\n",
    "\n",
    "clf.fit(X_train_str, Y_train_CaseReport)\n",
    "predicted_CaseReport = clf.predict(X_test_str)\n",
    "print('We got an accuracy of',np.mean(predicted_CaseReport == Y_test_CaseReport)*100, '% over the test data.')\n",
    "\n",
    "clf.fit(X_train_str, Y_train_Diagnosis)\n",
    "predicted_Diagnosis = clf.predict(X_test_str)\n",
    "print('We got an accuracy of',np.mean(predicted_Diagnosis == Y_test_Diagnosis)*100, '% over the test data.')\n",
    "\n",
    "clf.fit(X_train_str, Y_train_EpidemicForecasting)\n",
    "predicted_EpidemicForecasting = clf.predict(X_test_str)\n",
    "print('We got an accuracy of',np.mean(predicted_EpidemicForecasting == Y_test_EpidemicForecasting)*100, '% over the test data.')\n",
    "\n",
    "clf.fit(X_train_str, Y_train_Mechanism)\n",
    "predicted_Mechanism = clf.predict(X_test_str)\n",
    "print('We got an accuracy of',np.mean(predicted_Mechanism == Y_test_Mechanism)*100, '% over the test data.')\n",
    "\n",
    "clf.fit(X_train_str, Y_train_Prevention)\n",
    "predicted_Prevention = clf.predict(X_test_str)\n",
    "print('We got an accuracy of',np.mean(predicted_Prevention == Y_test_Prevention)*100, '% over the test data.')\n",
    "\n",
    "clf.fit(X_train_str, Y_train_Transmission)\n",
    "predicted_Transmission = clf.predict(X_test_str)\n",
    "print('We got an accuracy of',np.mean(predicted_Transmission == Y_test_Transmission)*100, '% over the test data.')\n",
    "\n",
    "clf.fit(X_train_str, Y_train_Treatment)\n",
    "predicted_Treatment = clf.predict(X_test_str)\n",
    "print('We got an accuracy of',np.mean(predicted_Treatment == Y_test_Treatment)*100, '% over the test data.')\n"
   ]
  },
  {
   "cell_type": "code",
   "execution_count": null,
   "id": "23xfu33u5rJj",
   "metadata": {
    "colab": {
     "base_uri": "https://localhost:8080/"
    },
    "id": "23xfu33u5rJj",
    "outputId": "9b8f68d0-7673-4d2f-a744-27f1844584c1"
   },
   "outputs": [
    {
     "name": "stdout",
     "output_type": "stream",
     "text": [
      "0.6502644654592082\n"
     ]
    }
   ],
   "source": [
    "trueLabels = 0\n",
    "for i in range(len(Y_test)):\n",
    "  if((predicted_CaseReport[i] == Y_test_CaseReport[i]) and (predicted_Diagnosis[i] == Y_test_Diagnosis[i]) and\n",
    "     (predicted_EpidemicForecasting[i] == Y_test_EpidemicForecasting[i]) and (predicted_Mechanism[i] == Y_test_Mechanism[i]) and\n",
    "     (predicted_Prevention[i] == Y_test_Prevention[i]) and (predicted_Transmission[i] == Y_test_Transmission[i]) and\n",
    "     (predicted_Treatment[i] == Y_test_Treatment[i])):\n",
    "    trueLabels+=1\n",
    "print(trueLabels/len(Y_test))"
   ]
  },
  {
   "cell_type": "code",
   "execution_count": null,
   "id": "-yTopxUWCKnZ",
   "metadata": {
    "id": "-yTopxUWCKnZ"
   },
   "outputs": [],
   "source": [
    "import csv  \n",
    "\n",
    "header = ['PMID','Treatment', 'Diagnosis',\t'Prevention',\t'Mechanism',\t'Transmission',\t'Epidemic Forecasting',\t'Case Report']\n",
    "\n",
    "with open('predicted_labels.csv', 'w', encoding='UTF8') as f:\n",
    "\n",
    "  writer = csv.writer(f)\n",
    "\n",
    "  # write the header\n",
    "  writer.writerow(header)\n",
    "  \n",
    "  for i in range(len(Y_test)):\n",
    "    data = [i, predicted_Treatment[i], predicted_Diagnosis[i], predicted_Prevention[i], predicted_Mechanism[i], \n",
    "            predicted_Transmission[i], predicted_EpidemicForecasting[i], predicted_CaseReport[i]]\n",
    "    writer.writerow(data)"
   ]
  },
  {
   "cell_type": "code",
   "execution_count": null,
   "id": "l_d6kzojIOHs",
   "metadata": {
    "id": "l_d6kzojIOHs"
   },
   "outputs": [],
   "source": [
    "header = ['PMID','Treatment', 'Diagnosis',\t'Prevention',\t'Mechanism',\t'Transmission',\t'Epidemic Forecasting',\t'Case Report']\n",
    "\n",
    "with open('gold_labels.csv', 'w', encoding='UTF8') as f:\n",
    "\n",
    "  writer = csv.writer(f)\n",
    "\n",
    "  # write the header\n",
    "  writer.writerow(header)\n",
    "  \n",
    "  for i in range(len(Y_test)):\n",
    "    data = [i, Y_test_Treatment[i], Y_test_Diagnosis[i], Y_test_Prevention[i], Y_test_Mechanism[i], \n",
    "            Y_test_Transmission[i], Y_test_EpidemicForecasting[i], Y_test_CaseReport[i]]\n",
    "    writer.writerow(data)"
   ]
  }
 ],
 "metadata": {
  "colab": {
   "collapsed_sections": [],
   "name": "493-term-project.ipynb",
   "provenance": []
  },
  "kernelspec": {
   "display_name": "Python 3",
   "language": "python",
   "name": "python3"
  },
  "language_info": {
   "codemirror_mode": {
    "name": "ipython",
    "version": 3
   },
   "file_extension": ".py",
   "mimetype": "text/x-python",
   "name": "python",
   "nbconvert_exporter": "python",
   "pygments_lexer": "ipython3",
   "version": "3.6.13"
  }
 },
 "nbformat": 4,
 "nbformat_minor": 5
}
